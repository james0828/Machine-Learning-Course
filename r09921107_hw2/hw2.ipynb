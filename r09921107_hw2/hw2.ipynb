{
 "cells": [
  {
   "cell_type": "markdown",
   "id": "fifteen-provision",
   "metadata": {},
   "source": [
    "## 2021 ML HW2\n",
    "\n",
    "**Competition is on [Kaggle](https://www.kaggle.com/c/ml2021spring-hw2) <br/>**\n",
    "**Use DNN solve the problem with ensemble, post-processing enhancement**"
   ]
  },
  {
   "cell_type": "markdown",
   "id": "authentic-hardwood",
   "metadata": {},
   "source": [
    "### Data Preprocessing"
   ]
  },
  {
   "cell_type": "code",
   "execution_count": null,
   "id": "finished-shock",
   "metadata": {},
   "outputs": [],
   "source": [
    "import numpy as np\n",
    "\n",
    "print('Loading data ...')\n",
    "\n",
    "# Your Data Directory\n",
    "data_root='/data1/ML/timit_11/'\n",
    "\n",
    "train = np.load(data_root + 'train_11.npy')\n",
    "train_label = np.load(data_root + 'train_label_11.npy')\n",
    "test = np.load(data_root + 'test_11.npy')"
   ]
  },
  {
   "cell_type": "code",
   "execution_count": null,
   "id": "ecological-credits",
   "metadata": {},
   "outputs": [],
   "source": [
    "print('Size of training data: {}'.format(train.shape))\n",
    "print('Size of testing data: {}'.format(test.shape))"
   ]
  },
  {
   "cell_type": "code",
   "execution_count": null,
   "id": "peripheral-poetry",
   "metadata": {},
   "outputs": [],
   "source": [
    "import torch\n",
    "from torch.utils.data import Dataset\n",
    "\n",
    "class TIMITDataset(Dataset):\n",
    "    def __init__(self, X, y=None):\n",
    "        self.data = torch.from_numpy(X).float()\n",
    "        if y is not None:\n",
    "            y = y.astype(np.int)\n",
    "            self.label = torch.LongTensor(y)\n",
    "        else:\n",
    "            self.label = None\n",
    "\n",
    "    def __getitem__(self, idx):\n",
    "        if self.label is not None:\n",
    "            return self.data[idx], self.label[idx]\n",
    "        else:\n",
    "            return self.data[idx]\n",
    "\n",
    "    def __len__(self):\n",
    "        return len(self.data)"
   ]
  },
  {
   "cell_type": "code",
   "execution_count": null,
   "id": "guilty-poland",
   "metadata": {},
   "outputs": [],
   "source": [
    "VAL_RATIO = 0 # Validation Set Ratio\n",
    "    \n",
    "percent = int(train.shape[0] * (1 - VAL_RATIO))\n",
    "train_x, train_y, val_x, val_y = train[:percent], train_label[:percent], train[percent:], train_label[percent:]\n",
    "print('Size of training set: {}'.format(train_x.shape))\n",
    "print('Size of validation set: {}'.format(val_x.shape))"
   ]
  },
  {
   "cell_type": "code",
   "execution_count": null,
   "id": "valued-abuse",
   "metadata": {},
   "outputs": [],
   "source": [
    "BATCH_SIZE = 256\n",
    "\n",
    "from torch.utils.data import DataLoader\n",
    "\n",
    "train_set = TIMITDataset(train_x, train_y)\n",
    "val_set = TIMITDataset(val_x, val_y)\n",
    "train_loader = DataLoader(train_set, batch_size=BATCH_SIZE, shuffle=True) #only shuffle the training data\n",
    "val_loader = DataLoader(val_set, batch_size=BATCH_SIZE, shuffle=False)"
   ]
  },
  {
   "cell_type": "code",
   "execution_count": null,
   "id": "handled-truth",
   "metadata": {},
   "outputs": [],
   "source": [
    "import gc\n",
    "\n",
    "del train, train_label, train_x, train_y, val_x, val_y\n",
    "gc.collect()"
   ]
  },
  {
   "cell_type": "code",
   "execution_count": null,
   "id": "advised-agenda",
   "metadata": {},
   "outputs": [],
   "source": [
    "import torch\n",
    "import torch.nn as nn\n",
    "\n",
    "class Classifier(nn.Module):\n",
    "    def __init__(self):\n",
    "        super(Classifier, self).__init__()\n",
    "        self.layer1 = nn.Linear(429, 2048)\n",
    "        self.layer2 = nn.Linear(2048, 2048)\n",
    "        self.dropout = nn.Dropout(0.5)\n",
    "        self.out = nn.Linear(2048, 39)\n",
    "        self.batchNorm = nn.BatchNorm1d(2048)\n",
    "        \n",
    "        self.relu = nn.ReLU()\n",
    "\n",
    "    def forward(self, x):\n",
    "        x = self.layer1(x)\n",
    "        x = self.batchNorm(x)\n",
    "        x = self.relu(x)\n",
    "        x = self.dropout(x)\n",
    "        \n",
    "        x = self.layer2(x)\n",
    "        x = self.batchNorm(x)\n",
    "        x = self.relu(x)\n",
    "        x = self.dropout(x)\n",
    "\n",
    "        x = self.layer2(x)\n",
    "        x = self.batchNorm(x)\n",
    "        x = self.relu(x)\n",
    "        x = self.dropout(x)\n",
    "\n",
    "        x = self.layer2(x)\n",
    "        x  = self.batchNorm(x)\n",
    "        x = self.relu(x)\n",
    "        x = self.dropout(x)\n",
    "\n",
    "        x = self.layer2(x)\n",
    "        x = self.batchNorm(x)\n",
    "        x = self.relu(x)\n",
    "        x = self.dropout(x)\n",
    "\n",
    "        x = self.out(x)\n",
    "        \n",
    "        return x"
   ]
  },
  {
   "cell_type": "code",
   "execution_count": null,
   "id": "reasonable-player",
   "metadata": {},
   "outputs": [],
   "source": [
    "# fix random seed\n",
    "def same_seeds(seed):\n",
    "    torch.manual_seed(seed)\n",
    "    if torch.cuda.is_available():\n",
    "        torch.cuda.manual_seed(seed)\n",
    "        torch.cuda.manual_seed_all(seed)  \n",
    "    np.random.seed(seed)  \n",
    "    torch.backends.cudnn.benchmark = False\n",
    "    torch.backends.cudnn.deterministic = True\n",
    "\n",
    "#check device\n",
    "def get_device():\n",
    "  return 'cuda:0' if torch.cuda.is_available() else 'cpu'\n",
    "    \n",
    "# fix random seed for reproducibility\n",
    "same_seeds(0)"
   ]
  },
  {
   "cell_type": "code",
   "execution_count": null,
   "id": "animal-asbestos",
   "metadata": {},
   "outputs": [],
   "source": [
    "num_epoch = 100               # number of training epoch\n",
    "learning_rate = 0.00005       # learning rate\n",
    "weight_decay = 0.0001\n",
    "ensemble_num = 7\n",
    "\n",
    "device = get_device()\n",
    "print(f'DEVICE: {device}')\n",
    "\n",
    "# the path where checkpoint saved\n",
    "model_path = './model_{:d}.ckpt'\n",
    "\n",
    "# create model, define a loss function, and optimizer\n",
    "models = [Classifier().to(device) for i in range(ensemble_num)]\n",
    "\n",
    "criterion = nn.CrossEntropyLoss()\n",
    "optimizers = [torch.optim.Adam(model.parameters(), lr=learning_rate, weight_decay=weight_decay) for model in models]"
   ]
  },
  {
   "cell_type": "code",
   "execution_count": null,
   "id": "universal-honey",
   "metadata": {},
   "outputs": [],
   "source": [
    "# function for getting the ensemble result (voting)  \n",
    "def find_most_freq(l):\n",
    "    s = {}\n",
    "    count, label = 0, 0\n",
    "    for i in l:\n",
    "        s[i] = s.get(i, 0) + 1\n",
    "        if s[i] > count:\n",
    "            count = s[i]\n",
    "            label = i\n",
    "    \n",
    "    return label"
   ]
  },
  {
   "cell_type": "markdown",
   "id": "suspended-gossip",
   "metadata": {},
   "source": [
    "### Training"
   ]
  },
  {
   "cell_type": "code",
   "execution_count": null,
   "id": "geographic-speaking",
   "metadata": {},
   "outputs": [],
   "source": [
    "best_acc = 0.0\n",
    "for epoch in range(num_epoch):\n",
    "    train_acc = 0.0\n",
    "    train_loss = 0.0\n",
    "    val_acc = 0.0\n",
    "    val_loss = 0.0\n",
    "    \n",
    "    for index, model in enumerate(models):\n",
    "\n",
    "        # training\n",
    "        model.train() # set the model to training mode\n",
    "        for i, data in enumerate(train_loader):\n",
    "            inputs, labels = data\n",
    "            inputs, labels = inputs.to(device), labels.to(device)\n",
    "            optimizers[index].zero_grad()\n",
    "            outputs = model(inputs)\n",
    "            batch_loss = criterion(outputs, labels)\n",
    "            _, train_pred = torch.max(outputs, 1) # get the index of the class with the highest probability\n",
    "            batch_loss.backward()\n",
    "            optimizers[index].step()\n",
    "            batch_correct = (train_pred.cpu() == labels.cpu()).sum().item()\n",
    "            train_acc += batch_correct\n",
    "            train_loss += batch_loss.item()\n",
    "            if i % 100 == 0:\n",
    "                print('[{:03d}/{:03d} | {:d}] correct: {:d}/{:d}'.format(epoch + 1, num_epoch, index, batch_correct, len(labels)))\n",
    "    \n",
    "    # validation\n",
    "    if len(val_set) > 0:\n",
    "        for model in models:\n",
    "            model.eval() # set the model to evaluation mode\n",
    "        with torch.no_grad():\n",
    "            for i, data in enumerate(val_loader):\n",
    "                inputs, labels = data\n",
    "                inputs, labels = inputs.to(device), labels.to(device)\n",
    "                voting_list = [[] for k in range(len(inputs))]\n",
    "                for index, model in enumerate(models):\n",
    "                    outputs = model(inputs)\n",
    "                    _, val_pred = torch.max(outputs, 1)\n",
    "                    for j, output in enumerate(val_pred):\n",
    "                        voting_list[j].append(int(output))\n",
    "                        \n",
    "                val_pred = torch.LongTensor(list(map(find_most_freq, voting_list)))\n",
    "\n",
    "                val_acc += (val_pred.cpu() == labels.cpu()).sum().item() # get the index of the class with the highest probability\n",
    "            \n",
    "            print('[{:03d}/{:03d}] Val Acc: {:3.6f} best Acc: {:3.6f}'.format(\n",
    "                epoch + 1, num_epoch, val_acc/len(val_set), best_acc / len(val_set)\n",
    "            ))\n",
    "\n",
    "            # if the model improves, save a checkpoint at this epoch\n",
    "            if val_acc > best_acc:\n",
    "                best_acc = val_acc\n",
    "                for model_i, model in enumerate(models):\n",
    "                    torch.save(model.state_dict(), model_path.format(model_i))\n",
    "                print('saving model with acc {:.3f}'.format(best_acc/len(val_set)))\n",
    "    elif epoch % 5 == 0: # validate the train data per 5 epoches\n",
    "        with torch.no_grad():\n",
    "            for i, data in enumerate(train_loader):\n",
    "                inputs, labels = data\n",
    "                inputs, labels = inputs.to(device), labels.to(device)\n",
    "                voting_list = [[] for k in range(len(inputs))]\n",
    "                for index, model in enumerate(models):\n",
    "                    outputs = model(inputs)\n",
    "                    _, val_pred = torch.max(outputs, 1)\n",
    "                    for j, output in enumerate(val_pred):\n",
    "                        voting_list[j].append(int(output))\n",
    "\n",
    "                val_pred = torch.LongTensor(list(map(find_most_freq, voting_list)))\n",
    "\n",
    "                val_acc += (val_pred.cpu() == labels.cpu()).sum().item() # get the index of the class with the highest probability\n",
    "\n",
    "            print('[{:03d}/{:03d}] Val Acc: {:3.6f}'.format(\n",
    "                epoch + 1, num_epoch, val_acc/len(train_set)\n",
    "            ))\n",
    "\n",
    "# if not validating, save the last epoch\n",
    "if len(val_set) == 0:\n",
    "    for model_i, model in enumerate(models):\n",
    "        torch.save(model.state_dict(), model_path.format(model_i))\n",
    "    print('saving model at last epoch')"
   ]
  },
  {
   "cell_type": "markdown",
   "id": "herbal-expense",
   "metadata": {},
   "source": [
    "### Test Data"
   ]
  },
  {
   "cell_type": "code",
   "execution_count": null,
   "id": "virtual-decline",
   "metadata": {},
   "outputs": [],
   "source": [
    "# create testing dataset\n",
    "test_set = TIMITDataset(test, None)\n",
    "test_loader = DataLoader(test_set, batch_size=BATCH_SIZE, shuffle=False)\n",
    "\n",
    "# create model and load weights from checkpoint\n",
    "models = [Classifier().to(device) for i in range(ensemble_num)]\n",
    "for model_i, model in enumerate(models):\n",
    "    model.load_state_dict(torch.load(model_path.format(model_i)))"
   ]
  },
  {
   "cell_type": "code",
   "execution_count": null,
   "id": "equipped-cassette",
   "metadata": {},
   "outputs": [],
   "source": [
    "predict = []\n",
    "\n",
    "for model in models: # set the model to evaluation mode\n",
    "    model.eval() \n",
    "with torch.no_grad():\n",
    "    for i, data in enumerate(test_loader):\n",
    "        inputs = data\n",
    "        inputs = inputs.to(device)\n",
    "        voting_list = [[] for k in range(len(inputs))]\n",
    "        for index, model in enumerate(models):\n",
    "            outputs = model(inputs)\n",
    "\n",
    "            _, val_pred = torch.max(outputs, 1)\n",
    "            for j, output in enumerate(val_pred):\n",
    "                voting_list[j].append(int(output))\n",
    "\n",
    "        voting_res = torch.LongTensor(list(map(find_most_freq, voting_list)))\n",
    "\n",
    "        for y in voting_res.cpu().numpy():\n",
    "            predict.append(y)"
   ]
  },
  {
   "cell_type": "code",
   "execution_count": null,
   "id": "finite-oracle",
   "metadata": {},
   "outputs": [],
   "source": [
    "with open('pred.csv', 'w') as f:\n",
    "    f.write('Id,Class\\n')\n",
    "    for i, y in enumerate(predict):\n",
    "        f.write('{},{}\\n'.format(i, y))"
   ]
  },
  {
   "cell_type": "markdown",
   "id": "fleet-barrier",
   "metadata": {},
   "source": [
    "### Post-processing"
   ]
  },
  {
   "cell_type": "code",
   "execution_count": null,
   "id": "improved-press",
   "metadata": {},
   "outputs": [],
   "source": [
    "import csv\n",
    "\n",
    "l = []\n",
    "with open('pred.csv') as csv_file:\n",
    "  rows = csv.reader(csv_file)\n",
    "  line_count = 0\n",
    "  for row in rows:\n",
    "    l.append(row)\n",
    "\n",
    "counter = 0\n",
    "for i in range(1, len(l)-1):\n",
    "  if l[i-1][1] == l[i+1][1] and l[i][1] != l[i-1][1]:\n",
    "    l[i][1] = l[i-1][1]\n",
    "\n",
    "with open('pred.csv', 'w') as csv_file:\n",
    "  writer = csv.writer(csv_file)\n",
    "  for i in l:\n",
    "    writer.writerow(i)"
   ]
  },
  {
   "cell_type": "markdown",
   "id": "commercial-tower",
   "metadata": {},
   "source": [
    "## Reference\n",
    "\n",
    "TA's code"
   ]
  }
 ],
 "metadata": {
  "kernelspec": {
   "display_name": "Python 3",
   "language": "python",
   "name": "python3"
  },
  "language_info": {
   "codemirror_mode": {
    "name": "ipython",
    "version": 3
   },
   "file_extension": ".py",
   "mimetype": "text/x-python",
   "name": "python",
   "nbconvert_exporter": "python",
   "pygments_lexer": "ipython3",
   "version": "3.6.5"
  }
 },
 "nbformat": 4,
 "nbformat_minor": 5
}
